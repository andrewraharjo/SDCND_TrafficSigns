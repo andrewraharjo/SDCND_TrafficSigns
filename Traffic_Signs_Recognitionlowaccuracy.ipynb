{
 "cells": [
  {
   "cell_type": "markdown",
   "metadata": {},
   "source": [
    "# Self-Driving Car Engineer Nanodegree\n",
    "\n",
    "## Deep Learning\n",
    "\n",
    "## Project: Build a Traffic Sign Recognition Classifier\n",
    "\n",
    "In this notebook, a template is provided for you to implement your functionality in stages which is required to successfully complete this project. If additional code is required that cannot be included in the notebook, be sure that the Python code is successfully imported and included in your submission, if necessary. Sections that begin with **'Implementation'** in the header indicate where you should begin your implementation for your project. Note that some sections of implementation are optional, and will be marked with **'Optional'** in the header.\n",
    "\n",
    "In addition to implementing code, there will be questions that you must answer which relate to the project and your implementation. Each section where you will answer a question is preceded by a **'Question'** header. Carefully read each question and provide thorough answers in the following text boxes that begin with **'Answer:'**. Your project submission will be evaluated based on your answers to each of the questions and the implementation you provide.\n",
    "\n",
    ">**Note:** Code and Markdown cells can be executed using the **Shift + Enter** keyboard shortcut. In addition, Markdown cells can be edited by typically double-clicking the cell to enter edit mode."
   ]
  },
  {
   "cell_type": "markdown",
   "metadata": {},
   "source": [
    "---\n",
    "\n",
    "## Step 1: Dataset Exploration\n",
    "\n",
    "Visualize the German Traffic Signs Dataset. This is open ended, some suggestions include: plotting traffic signs images, plotting the count of each sign, etc. Be creative!\n",
    "\n",
    "\n",
    "The pickled data is a dictionary with 4 key/value pairs:\n",
    "\n",
    "- features -> the images pixel values, (width, height, channels)\n",
    "- labels -> the label of the traffic sign\n",
    "- sizes -> the original width and height of the image, (width, height)\n",
    "- coords -> coordinates of a bounding box around the sign in the image, (x1, y1, x2, y2)"
   ]
  },
  {
   "cell_type": "code",
   "execution_count": 27,
   "metadata": {
    "collapsed": false
   },
   "outputs": [],
   "source": [
    "from sklearn.preprocessing import LabelBinarizer\n",
    "import numpy as np\n",
    "from sklearn.cross_validation import train_test_split\n",
    "import matplotlib.pyplot as plt\n",
    "import cv2\n",
    "import time\n",
    "from datetime import timedelta\n"
   ]
  },
  {
   "cell_type": "code",
   "execution_count": 3,
   "metadata": {
    "collapsed": false,
    "scrolled": true
   },
   "outputs": [
    {
     "name": "stdout",
     "output_type": "stream",
     "text": [
      "(39209, 32, 32, 3)\n",
      "(12630, 32, 32, 3)\n",
      "(39209,)\n",
      "(12630,)\n"
     ]
    }
   ],
   "source": [
    "# Load pickled data\n",
    "import pickle\n",
    "\n",
    "\n",
    "# TODO: fill this in based on where you saved the training and testing data\n",
    "training_file = 'TrafficSignData/train.p'\n",
    "testing_file = 'TrafficSignData/test.p'\n",
    "\n",
    "with open(training_file, mode='rb') as f:\n",
    "    train = pickle.load(f)\n",
    "with open(testing_file, mode='rb') as f:\n",
    "    test = pickle.load(f)\n",
    "    \n",
    "X_train, y_train = train['features'], train['labels']\n",
    "X_test, y_test = test['features'], test['labels']\n",
    "print (X_train.shape)\n",
    "print (X_test.shape)\n",
    "print (y_train.shape)\n",
    "print (y_test.shape)\n"
   ]
  },
  {
   "cell_type": "code",
   "execution_count": 4,
   "metadata": {
    "collapsed": false
   },
   "outputs": [
    {
     "name": "stdout",
     "output_type": "stream",
     "text": [
      "Number of training examples = 550\n",
      "Number of testing examples = 100\n",
      "Image data shape = Tensor(\"Placeholder:0\", shape=(?, 1024), dtype=float32)\n",
      "Number of classes = 43\n"
     ]
    }
   ],
   "source": [
    "### To start off let's do a basic data summary.\n",
    "import tensorflow as tf\n",
    "\n",
    "# TODO: number of training examples\n",
    "n_train = 550\n",
    "\n",
    "# TODO: number of testing examples\n",
    "n_test = 100\n",
    "\n",
    "# TODO: what's the shape of an image?\n",
    "image_shape = tf.placeholder(tf.float32, [None, 1024])\n",
    "\n",
    "# TODO: how many classes are in the dataset\n",
    "# 43 because 43 signs\n",
    "n_classes = 43\n",
    "\n",
    "print(\"Number of training examples =\", n_train)\n",
    "print(\"Number of testing examples =\", n_test)\n",
    "print(\"Image data shape =\", image_shape)\n",
    "print(\"Number of classes =\", n_classes)"
   ]
  },
  {
   "cell_type": "code",
   "execution_count": 13,
   "metadata": {
    "collapsed": false
   },
   "outputs": [],
   "source": [
    "# Convert image to grayscale \n",
    "\n",
    "def pre_process_image(image):\n",
    "    \n",
    "    image = cv2.cvtColor(image, cv2.COLOR_BGR2GRAY)\n",
    "    return image.flatten()/255.\n",
    "\n",
    "train_features = np.array([pre_process_image(X_train[i]) for i in range(len(X_train))],\n",
    "                          dtype = np.float32)\n",
    "test_features = np.array([pre_process_image(X_test[i]) for i in range(len(X_test))],\n",
    "                          dtype = np.float32)"
   ]
  },
  {
   "cell_type": "code",
   "execution_count": 14,
   "metadata": {
    "collapsed": false
   },
   "outputs": [
    {
     "data": {
      "text/plain": [
       "(39209, 1024)"
      ]
     },
     "execution_count": 14,
     "metadata": {},
     "output_type": "execute_result"
    }
   ],
   "source": [
    "np.shape(train_features)"
   ]
  },
  {
   "cell_type": "code",
   "execution_count": 7,
   "metadata": {
    "collapsed": false
   },
   "outputs": [
    {
     "data": {
      "text/plain": [
       "'\\n\\nI wouldnt modify X_train or X_test. \\n \\n# Flatten the images for greyscale\\n#print (X_train.shape)\\n#print (y_train.shape)\\n#print (X_test.shape)\\n#print (y_test.shape)\\n\\nX_train = X_train.reshape(39209, 32*32*3)\\nX_test = X_test.reshape(12630, 32*32 *3)\\n\\nprint (X_train.shape)\\nprint (y_train.shape)\\nprint (X_test.shape)\\n\\nprint (y_test.shape)\\n'"
      ]
     },
     "execution_count": 7,
     "metadata": {},
     "output_type": "execute_result"
    }
   ],
   "source": [
    "'''\n",
    "\n",
    "I wouldnt modify X_train or X_test. \n",
    " \n",
    "# Flatten the images for greyscale\n",
    "#print (X_train.shape)\n",
    "#print (y_train.shape)\n",
    "#print (X_test.shape)\n",
    "#print (y_test.shape)\n",
    "\n",
    "X_train = X_train.reshape(39209, 32*32*3)\n",
    "X_test = X_test.reshape(12630, 32*32 *3)\n",
    "\n",
    "print (X_train.shape)\n",
    "print (y_train.shape)\n",
    "print (X_test.shape)\n",
    "\n",
    "print (y_test.shape)\n",
    "'''"
   ]
  },
  {
   "cell_type": "code",
   "execution_count": null,
   "metadata": {
    "collapsed": false
   },
   "outputs": [],
   "source": []
  },
  {
   "cell_type": "code",
   "execution_count": 9,
   "metadata": {
    "collapsed": false
   },
   "outputs": [
    {
     "data": {
      "text/plain": [
       "\"\\n# Implement Min-Max scaling for greyscale image data\\ndef normalize_greyscale(image_data):\\n    \\n    a = 0.1\\n    b = 0.9\\n    Xmin = 0\\n    X = image_data\\n    Xmax = 255\\n    return 0.1 + ((X-Xmin)*(b-a)/(Xmax - Xmin))\\n\\ntrain_features = normalize_greyscale(X_train)\\ntest_features = normalize_greyscale(X_test)\\nis_features_normal = True\\n\\nprint ('Tests passed!')\\n\""
      ]
     },
     "execution_count": 9,
     "metadata": {},
     "output_type": "execute_result"
    }
   ],
   "source": [
    "'''\n",
    "# Implement Min-Max scaling for greyscale image data\n",
    "def normalize_greyscale(image_data):\n",
    "    \n",
    "    a = 0.1\n",
    "    b = 0.9\n",
    "    Xmin = 0\n",
    "    X = image_data\n",
    "    Xmax = 255\n",
    "    return 0.1 + ((X-Xmin)*(b-a)/(Xmax - Xmin))\n",
    "\n",
    "train_features = normalize_greyscale(X_train)\n",
    "test_features = normalize_greyscale(X_test)\n",
    "is_features_normal = True\n",
    "\n",
    "print ('Tests passed!')\n",
    "'''"
   ]
  },
  {
   "cell_type": "code",
   "execution_count": 10,
   "metadata": {
    "collapsed": false
   },
   "outputs": [
    {
     "name": "stdout",
     "output_type": "stream",
     "text": [
      "Labels One-Hot Encoded\n"
     ]
    }
   ],
   "source": [
    "# Turn labels into numbers and apply One-Hot Encoding\n",
    "encoder = LabelBinarizer()\n",
    "encoder.fit(y_train)\n",
    "train_labels = encoder.transform(y_train)\n",
    "test_labels = encoder.transform(y_test)\n",
    "\n",
    "# Change to float32, so that it can be multiplied against the features in TensorFlow which are float32\n",
    "train_labels = train_labels.astype(np.float32)\n",
    "test_labels = test_labels.astype(np.float32)\n",
    "is_labels_encod = True\n",
    "\n",
    "print ('Labels One-Hot Encoded')"
   ]
  },
  {
   "cell_type": "code",
   "execution_count": 16,
   "metadata": {
    "collapsed": false,
    "scrolled": true
   },
   "outputs": [
    {
     "name": "stdout",
     "output_type": "stream",
     "text": [
      "Training features and labels randomized and split\n",
      "(35385, 1024)\n",
      "(35385, 43)\n"
     ]
    }
   ],
   "source": [
    "# Get randomized datasets for training and validation\n",
    "\n",
    "train_features, valid_features, train_labels, valid_labels = train_test_split(\n",
    "    train_features,\n",
    "    train_labels,\n",
    "    test_size = 0.05,\n",
    "    random_state = 832289)\n",
    "\n",
    "print ('Training features and labels randomized and split')\n",
    "print (train_features.shape)\n",
    "print (train_labels.shape)\n"
   ]
  },
  {
   "cell_type": "code",
   "execution_count": null,
   "metadata": {
    "collapsed": true
   },
   "outputs": [],
   "source": [
    "### Data exploration visualization goes here.\n",
    "### Feel free to use as many code cells as needed."
   ]
  },
  {
   "cell_type": "markdown",
   "metadata": {},
   "source": [
    "----\n",
    "\n",
    "## Step 2: Design and Test a Model Architecture\n",
    "\n",
    "Design and implement a deep learning model that learns to recognize traffic signs. Train and test your model on the [German Traffic Sign Dataset](http://benchmark.ini.rub.de/?section=gtsrb&subsection=dataset).\n",
    "\n",
    "There are various aspects to consider when thinking about this problem:\n",
    "\n",
    "- Your model can be derived from a deep feedforward net or a deep convolutional network.\n",
    "- Play around preprocessing techniques (normalization, rgb to grayscale, etc)\n",
    "- Number of examples per label (some have more than others).\n",
    "- Generate fake data.\n",
    "\n",
    "Here is an example of a [published baseline model on this problem](http://yann.lecun.com/exdb/publis/pdf/sermanet-ijcnn-11.pdf). It's not required to be familiar with the approach used in the paper but, it's good practice to try to read papers like these."
   ]
  },
  {
   "cell_type": "markdown",
   "metadata": {},
   "source": [
    "### Implementation\n",
    "\n",
    "Use the code cell (or multiple code cells, if necessary) to implement the first step of your project. Once you have completed your implementation and are satisfied with the results, be sure to thoroughly answer the questions that follow."
   ]
  },
  {
   "cell_type": "code",
   "execution_count": 19,
   "metadata": {
    "collapsed": false,
    "scrolled": true
   },
   "outputs": [
    {
     "name": "stdout",
     "output_type": "stream",
     "text": [
      "35385\n",
      "35385\n",
      "Tensor(\"Placeholder_5:0\", shape=(?, 1024), dtype=float32)\n",
      "Tensor(\"Placeholder_6:0\", shape=(?, 43), dtype=float32)\n",
      "prediction  Tensor(\"Softmax_2:0\", shape=(?, 43), dtype=float32)\n",
      "loss  Tensor(\"Mean_1:0\", shape=(), dtype=float32)\n",
      "Tests passed\n"
     ]
    }
   ],
   "source": [
    "### Preprocess the data here.\n",
    "### Feel free to use as many code cells as needed.\n",
    "import tensorflow as tf\n",
    "\n",
    "features_count = train_features.shape[1]\n",
    "#features_count = 3072\n",
    "\n",
    "#labels_count = 43\n",
    "labels_count = train_labels.shape[1]\n",
    "\n",
    "#print (train_features.shape[0])\n",
    "#print (train_labels.shape[0])\n",
    "\n",
    "features = tf.placeholder(tf.float32, [None, train_features.shape[1]])\n",
    "labels = tf.placeholder(tf.float32, [None, train_labels.shape[1]])\n",
    "\n",
    "\n",
    "print (train_features.shape[0])\n",
    "print (train_labels.shape[0])\n",
    "\n",
    "#features = tf.placeholder(tf.float32)\n",
    "#labels = tf.placeholder(tf.float32)\n",
    "\n",
    "weights = tf.Variable(tf.truncated_normal((features_count, labels_count)))\n",
    "biases = tf.Variable(tf.zeros(labels_count))\n",
    "\n",
    "print (features)\n",
    "print (labels)\n",
    "\n",
    "\n",
    "\n",
    "train_dict = {features: train_features, labels: train_labels}\n",
    "valid_dict = {features: valid_features, labels: valid_labels}\n",
    "test_dict = {features: test_features, labels: test_labels}\n",
    "#train_dict = {features: X_train, labels: y_train}\n",
    "#test_dict = {features: X_test, labels: y_test}\n",
    "\n",
    "\n",
    "#Linear Function WX + b\n",
    "logits = tf.matmul(features, weights) + biases\n",
    "\n",
    "prediction = tf.nn.softmax(logits)\n",
    "\n",
    "print ('prediction ', prediction)\n",
    "\n",
    "# Cross entropy commented out to use Vivek's code \n",
    "#cross_entropy = -tf.reduce_sum(labels * tf.log(prediction), reduction_indices =1)\n",
    "#print (\"cross entropy\", cross_entropy)\n",
    "#tf.Print(cross_entropy, [cross_entropy])\n",
    "\n",
    "cross_entropy = tf.reduce_mean(-tf.reduce_sum(labels * tf.log(tf.clip_by_value(prediction,1e-10,1.0)), \n",
    "                                              reduction_indices=[1]))\n",
    "\n",
    "#Training loss\n",
    "loss = tf.reduce_mean(cross_entropy)\n",
    "print (\"loss \", loss)\n",
    "\n",
    "# Create an operation that initializes all variables\n",
    "init = tf.initialize_all_variables()\n",
    "\n",
    "# Test Cases\n",
    "with tf.Session() as session:\n",
    "    session.run(init)\n",
    "    session.run(loss, feed_dict = train_dict)\n",
    "    session.run(loss, feed_dict = test_dict)\n",
    "    biases_data = session.run(biases)\n",
    "    \n",
    "assert not np.count_nonzero(biases_data), 'biases must be zeroes'\n",
    "\n",
    "print ('Tests passed')"
   ]
  },
  {
   "cell_type": "code",
   "execution_count": 20,
   "metadata": {
    "collapsed": false
   },
   "outputs": [
    {
     "name": "stdout",
     "output_type": "stream",
     "text": [
      "is_correct_prediction Tensor(\"Equal:0\", shape=(?,), dtype=bool)\n",
      "accuracy Tensor(\"Mean_2:0\", shape=(), dtype=float32)\n",
      "Accuracy function created\n"
     ]
    }
   ],
   "source": [
    "# Determine if the predictions are correct\n",
    "is_correct_prediction = tf.equal(tf.argmax(prediction, 1), tf.argmax(labels, 1))\n",
    "print ('is_correct_prediction', is_correct_prediction)\n",
    "#Calculate the accuracy of the predictions\n",
    "accuracy = tf.reduce_mean(tf.cast(is_correct_prediction, tf.float32))\n",
    "print ('accuracy', accuracy)\n",
    "print('Accuracy function created')"
   ]
  },
  {
   "cell_type": "code",
   "execution_count": null,
   "metadata": {
    "collapsed": true
   },
   "outputs": [],
   "source": []
  },
  {
   "cell_type": "code",
   "execution_count": 41,
   "metadata": {
    "collapsed": false,
    "scrolled": false
   },
   "outputs": [
    {
     "name": "stdout",
     "output_type": "stream",
     "text": [
      "training accuracy at 0.024219302460551262\n",
      "Validation accuracy at 0.0236178208142519\n",
      "training accuracy at 0.41788893938064575\n",
      "Validation accuracy at 0.41492217779159546\n",
      "training accuracy at 0.5948848128318787\n",
      "Validation accuracy at 0.5850778222084045\n",
      "training accuracy at 0.6648014783859253\n",
      "Validation accuracy at 0.654321014881134\n",
      "training accuracy at 0.7121661901473999\n",
      "Validation accuracy at 0.6929683089256287\n",
      "training accuracy at 0.7388724088668823\n",
      "Validation accuracy at 0.7208803296089172\n",
      "training accuracy at 0.761904776096344\n",
      "Validation accuracy at 0.7455716729164124\n",
      "training accuracy at 0.7805567383766174\n",
      "Validation accuracy at 0.761674702167511\n",
      "training accuracy at 0.7940935492515564\n",
      "Validation accuracy at 0.7718732953071594\n",
      "training accuracy at 0.8054260015487671\n",
      "Validation accuracy at 0.7847557663917542\n",
      "training accuracy at 0.8151476383209229\n",
      "Validation accuracy at 0.7917337417602539\n",
      "training accuracy at 0.8230606317520142\n",
      "Validation accuracy at 0.8013955950737\n",
      "training accuracy at 0.8301257491111755\n",
      "Validation accuracy at 0.8040794134140015\n",
      "training accuracy at 0.8360039591789246\n",
      "Validation accuracy at 0.8083735704421997\n",
      "training accuracy at 0.841627836227417\n",
      "Validation accuracy at 0.8174986839294434\n",
      "training accuracy at 0.8469973206520081\n",
      "Validation accuracy at 0.8234031200408936\n",
      "training accuracy at 0.851745069026947\n",
      "Validation accuracy at 0.8276972770690918\n",
      "training accuracy at 0.8558428883552551\n",
      "Validation accuracy at 0.8293075561523438\n",
      "training accuracy at 0.8600254058837891\n",
      "Validation accuracy at 0.8325281739234924\n",
      "training accuracy at 0.8642079830169678\n",
      "Validation accuracy at 0.8362855315208435\n",
      "training accuracy at 0.8669492602348328\n",
      "Validation accuracy at 0.8416532278060913\n",
      "training accuracy at 0.8702840209007263\n",
      "Validation accuracy at 0.8459473848342896\n",
      "training accuracy at 0.8730535507202148\n",
      "Validation accuracy at 0.8475577235221863\n",
      "training accuracy at 0.8760209083557129\n",
      "Validation accuracy at 0.8513150811195374\n",
      "training accuracy at 0.8778861165046692\n",
      "Validation accuracy at 0.8539988994598389\n",
      "training accuracy at 0.8804295659065247\n",
      "Validation accuracy at 0.8556092381477356\n",
      "training accuracy at 0.8824643492698669\n",
      "Validation accuracy at 0.8556092381477356\n",
      "training accuracy at 0.8846403956413269\n",
      "Validation accuracy at 0.8582930564880371\n",
      "training accuracy at 0.8862512111663818\n",
      "Validation accuracy at 0.8599033951759338\n",
      "training accuracy at 0.887833833694458\n",
      "Validation accuracy at 0.862050473690033\n",
      "training accuracy at 0.889840304851532\n",
      "Validation accuracy at 0.8636607527732849\n",
      "training accuracy at 0.8916772603988647\n",
      "Validation accuracy at 0.8663446307182312\n",
      "training accuracy at 0.8933446407318115\n",
      "Validation accuracy at 0.8663446307182312\n",
      "training accuracy at 0.8943337798118591\n",
      "Validation accuracy at 0.8668813705444336\n",
      "training accuracy at 0.895548939704895\n",
      "Validation accuracy at 0.8668813705444336\n",
      "training accuracy at 0.8969054818153381\n",
      "Validation accuracy at 0.8684917092323303\n",
      "training accuracy at 0.8981772065162659\n",
      "Validation accuracy at 0.8701019883155823\n",
      "training accuracy at 0.8994206786155701\n",
      "Validation accuracy at 0.8701019883155823\n",
      "training accuracy at 0.9006641507148743\n",
      "Validation accuracy at 0.8717122673988342\n",
      "training accuracy at 0.9016249775886536\n",
      "Validation accuracy at 0.8711755275726318\n",
      "training accuracy at 0.9025010466575623\n",
      "Validation accuracy at 0.8722490668296814\n",
      "training accuracy at 0.9034336805343628\n",
      "Validation accuracy at 0.8722490668296814\n",
      "training accuracy at 0.9040554165840149\n",
      "Validation accuracy at 0.873322606086731\n",
      "training accuracy at 0.9047336578369141\n",
      "Validation accuracy at 0.8738593459129333\n",
      "training accuracy at 0.9058075547218323\n",
      "Validation accuracy at 0.8754696846008301\n",
      "training accuracy at 0.9063727855682373\n",
      "Validation accuracy at 0.8760064244270325\n",
      "training accuracy at 0.907474935054779\n",
      "Validation accuracy at 0.877079963684082\n",
      "training accuracy at 0.9084357619285583\n",
      "Validation accuracy at 0.8776167631149292\n",
      "training accuracy at 0.9090574979782104\n",
      "Validation accuracy at 0.8776167631149292\n",
      "training accuracy at 0.9098488092422485\n",
      "Validation accuracy at 0.8781535029411316\n",
      "training accuracy at 0.9106683731079102\n",
      "Validation accuracy at 0.8792270421981812\n",
      "training accuracy at 0.9112052917480469\n",
      "Validation accuracy at 0.8797638416290283\n",
      "training accuracy at 0.9114596843719482\n",
      "Validation accuracy at 0.8803005814552307\n",
      "training accuracy at 0.9119400978088379\n",
      "Validation accuracy at 0.8803005814552307\n",
      "training accuracy at 0.9125053286552429\n",
      "Validation accuracy at 0.8808373808860779\n",
      "training accuracy at 0.9130422472953796\n",
      "Validation accuracy at 0.8813741207122803\n",
      "training accuracy at 0.9134944081306458\n",
      "Validation accuracy at 0.8813741207122803\n",
      "training accuracy at 0.9138900637626648\n",
      "Validation accuracy at 0.8813741207122803\n",
      "training accuracy at 0.9146248698234558\n",
      "Validation accuracy at 0.8808373808860779\n",
      "training accuracy at 0.915133535861969\n",
      "Validation accuracy at 0.8813741207122803\n",
      "training accuracy at 0.9156704545021057\n",
      "Validation accuracy at 0.8819109201431274\n",
      "training accuracy at 0.9160378575325012\n",
      "Validation accuracy at 0.8835211992263794\n",
      "training accuracy at 0.9165182709693909\n",
      "Validation accuracy at 0.8835211992263794\n",
      "training accuracy at 0.9171965718269348\n",
      "Validation accuracy at 0.8835211992263794\n",
      "training accuracy at 0.9175639152526855\n",
      "Validation accuracy at 0.882984459400177\n",
      "training accuracy at 0.9179878234863281\n",
      "Validation accuracy at 0.882984459400177\n",
      "training accuracy at 0.9184117317199707\n",
      "Validation accuracy at 0.882984459400177\n",
      "training accuracy at 0.9187791347503662\n",
      "Validation accuracy at 0.882984459400177\n",
      "training accuracy at 0.9193443655967712\n",
      "Validation accuracy at 0.8835211992263794\n",
      "training accuracy at 0.9197117686271667\n",
      "Validation accuracy at 0.8835211992263794\n",
      "training accuracy at 0.9199943542480469\n",
      "Validation accuracy at 0.882984459400177\n",
      "training accuracy at 0.9203334450721741\n",
      "Validation accuracy at 0.8835211992263794\n",
      "training accuracy at 0.9207008481025696\n",
      "Validation accuracy at 0.8840579986572266\n",
      "training accuracy at 0.9212378263473511\n",
      "Validation accuracy at 0.8840579986572266\n",
      "training accuracy at 0.9216899871826172\n",
      "Validation accuracy at 0.8835211992263794\n",
      "training accuracy at 0.9218878149986267\n",
      "Validation accuracy at 0.8824476599693298\n",
      "training accuracy at 0.9219725728034973\n",
      "Validation accuracy at 0.8813741207122803\n",
      "training accuracy at 0.9223682284355164\n",
      "Validation accuracy at 0.8819109201431274\n",
      "training accuracy at 0.9227073788642883\n",
      "Validation accuracy at 0.882984459400177\n",
      "training accuracy at 0.9229334592819214\n",
      "Validation accuracy at 0.882984459400177\n",
      "training accuracy at 0.923413872718811\n",
      "Validation accuracy at 0.8835211992263794\n",
      "training accuracy at 0.9238377809524536\n",
      "Validation accuracy at 0.8840579986572266\n",
      "training accuracy at 0.924148678779602\n",
      "Validation accuracy at 0.8840579986572266\n",
      "training accuracy at 0.9244030117988586\n",
      "Validation accuracy at 0.8840579986572266\n",
      "training accuracy at 0.9244595170021057\n",
      "Validation accuracy at 0.884594738483429\n",
      "training accuracy at 0.9247421026229858\n",
      "Validation accuracy at 0.8851315379142761\n",
      "training accuracy at 0.9249116778373718\n",
      "Validation accuracy at 0.8856682777404785\n",
      "training accuracy at 0.9249681830406189\n",
      "Validation accuracy at 0.8856682777404785\n",
      "training accuracy at 0.9252225756645203\n",
      "Validation accuracy at 0.8856682777404785\n",
      "training accuracy at 0.9253920912742615\n",
      "Validation accuracy at 0.8862050175666809\n",
      "training accuracy at 0.9255616664886475\n",
      "Validation accuracy at 0.8867418169975281\n",
      "training accuracy at 0.9256464838981628\n",
      "Validation accuracy at 0.8867418169975281\n",
      "training accuracy at 0.9259008169174194\n",
      "Validation accuracy at 0.8867418169975281\n",
      "training accuracy at 0.9261268973350525\n",
      "Validation accuracy at 0.8867418169975281\n",
      "training accuracy at 0.9262399077415466\n",
      "Validation accuracy at 0.8867418169975281\n",
      "training accuracy at 0.9263812303543091\n",
      "Validation accuracy at 0.8872785568237305\n",
      "training accuracy at 0.9264659881591797\n",
      "Validation accuracy at 0.8872785568237305\n",
      "training accuracy at 0.9266355633735657\n",
      "Validation accuracy at 0.8878153562545776\n",
      "training accuracy at 0.9268333911895752\n",
      "Validation accuracy at 0.8878153562545776\n",
      "training accuracy at 0.9268616437911987\n",
      "Validation accuracy at 0.8878153562545776\n"
     ]
    },
    {
     "data": {
      "image/png": "[encoded data removed]",
      "text/plain": [
       "<matplotlib.figure.Figure at 0x11b38d588>"
      ]
     },
     "metadata": {},
     "output_type": "display_data"
    },
    {
     "name": "stdout",
     "output_type": "stream",
     "text": [
      "Validation accuracy at 0.8910359740257263\n",
      "Time usage: 0:02:20\n"
     ]
    }
   ],
   "source": [
    "import tensorflow as tf\n",
    "from tqdm import tqdm\n",
    "import math\n",
    "import matplotlib.pyplot as plt\n",
    "\n",
    "# Parameters\n",
    "training_epochs = 100\n",
    "batch_size = 20\n",
    "learning_rate = 0.24\n",
    "\n",
    "### DON'T MODIFY ANYTHING BELOW ###\n",
    "# Gradient Descent\n",
    "optimizer = tf.train.GradientDescentOptimizer(learning_rate).minimize(loss)    \n",
    "\n",
    "# The accuracy measured against the validation set\n",
    "validation_accuracy = 0.0\n",
    "\n",
    "# Measurements use for graphing loss and accuracy\n",
    "log_batch_step = 2000\n",
    "batches = []\n",
    "loss_batch = []\n",
    "train_acc_batch = []\n",
    "valid_acc_batch = []\n",
    "\n",
    "\n",
    "start_time = time.time()\n",
    "\n",
    "# Initializing the variables\n",
    "init = tf.initialize_all_variables()\n",
    "\n",
    "# Launch the graph\n",
    "\n",
    "sess = tf.Session()\n",
    "sess.run(init)\n",
    "batch_count = int(math.ceil(len(train_features)/batch_size))\n",
    "# Training cycle\n",
    "for epoch_i in range(training_epochs):\n",
    "\n",
    "    # Progress bar\n",
    "    #batches_pbar = tqdm(range(batch_count), desc='Epoch {:>2}/{}'.format(epoch_i+1, training_epochs),unit='batches')\n",
    "\n",
    "    # The training cycle\n",
    "    for batch_i in range(1000):\n",
    "        # Get a batch of training features and labels\n",
    "        batch_start = batch_i*batch_size\n",
    "        batch_features = train_features[batch_start:batch_start+batch_size]\n",
    "        batch_labels = train_labels[batch_start:batch_start + batch_size]\n",
    "\n",
    "        # Run optimizer and get loss\n",
    "        _, l = sess.run([optimizer, loss],feed_dict= {features: batch_features,labels: batch_labels})\n",
    "\n",
    "        # Log every 50 batches\n",
    "        if not batch_i % log_batch_step:\n",
    "            # Calculate Training and Validation accuracy\n",
    "            training_accuracy = sess.run(accuracy, feed_dict=train_dict)\n",
    "            validation_accuracy = sess.run(accuracy, feed_dict=valid_dict)\n",
    "\n",
    "            # Log batches\n",
    "            previous_batch = batches[-1] if batches else 0\n",
    "            batches.append(log_batch_step + previous_batch)\n",
    "            loss_batch.append(l)\n",
    "            train_acc_batch.append(training_accuracy)\n",
    "            print('training accuracy at {}'.format(training_accuracy))\n",
    "            valid_acc_batch.append(validation_accuracy)\n",
    "            print('Validation accuracy at {}'.format(validation_accuracy))\n",
    "\n",
    "    # Check accuracy against testing data #change later to check against validation data\n",
    "    validation_accuracy = sess.run(accuracy, feed_dict=valid_dict)\n",
    "\n",
    "sess.close()\n",
    "        \n",
    "loss_plot = plt.subplot(211)\n",
    "loss_plot.set_title('Loss')\n",
    "loss_plot.plot(batches, loss_batch, 'g')\n",
    "loss_plot.set_xlim([batches[0], batches[-1]])\n",
    "acc_plot = plt.subplot(212)\n",
    "acc_plot.set_title('Accuracy')\n",
    "\n",
    "acc_plot.plot(batches, train_acc_batch, 'r', label='Training Accuracy')\n",
    "acc_plot.plot(batches, valid_acc_batch, 'b', label='Validation Accuracy')\n",
    "acc_plot.set_ylim([0, 1.0])\n",
    "acc_plot.set_xlim([batches[0], batches[-1]])\n",
    "acc_plot.legend(loc=4)\n",
    "plt.tight_layout()\n",
    "plt.show()\n",
    "\n",
    "print('Validation accuracy at {}'.format(validation_accuracy))\n",
    "\n",
    "        \n",
    "\n",
    "\n",
    "\n",
    "end_time = time.time()\n",
    "time_dif = end_time - start_time\n",
    "\n",
    "print(\"Time usage: \" + str(timedelta(seconds=int(round(time_dif)))))\n",
    "\n",
    "\n",
    "\n",
    "\n",
    "\n",
    "\n",
    "\n",
    "\n",
    "\n"
   ]
  },
  {
   "cell_type": "markdown",
   "metadata": {},
   "source": [
    "### Question 1 \n",
    "\n",
    "_Describe the techniques used to preprocess the data._"
   ]
  },
  {
   "cell_type": "markdown",
   "metadata": {},
   "source": [
    "**Answer:**"
   ]
  },
  {
   "cell_type": "code",
   "execution_count": null,
   "metadata": {
    "collapsed": true
   },
   "outputs": [],
   "source": [
    "### Generate data additional (if you want to!)\n",
    "### and split the data into training/validation/testing sets here.\n",
    "### Feel free to use as many code cells as needed."
   ]
  },
  {
   "cell_type": "markdown",
   "metadata": {},
   "source": [
    "### Question 2\n",
    "\n",
    "_Describe how you set up the training, validation and testing data for your model. If you generated additional data, why?_"
   ]
  },
  {
   "cell_type": "markdown",
   "metadata": {},
   "source": [
    "**Answer:**"
   ]
  },
  {
   "cell_type": "code",
   "execution_count": null,
   "metadata": {
    "collapsed": true
   },
   "outputs": [],
   "source": [
    "### Define your architecture here.\n",
    "### Feel free to use as many code cells as needed."
   ]
  },
  {
   "cell_type": "markdown",
   "metadata": {},
   "source": [
    "### Question 3\n",
    "\n",
    "_What does your final architecture look like? (Type of model, layers, sizes, connectivity, etc.)  For reference on how to build a deep neural network using TensorFlow, see [Deep Neural Network in TensorFlow\n",
    "](https://classroom.udacity.com/nanodegrees/nd013/parts/fbf77062-5703-404e-b60c-95b78b2f3f9e/modules/6df7ae49-c61c-4bb2-a23e-6527e69209ec/lessons/b516a270-8600-4f93-a0a3-20dfeabe5da6/concepts/83a3a2a2-a9bd-4b7b-95b0-eb924ab14432) from the classroom._\n"
   ]
  },
  {
   "cell_type": "markdown",
   "metadata": {},
   "source": [
    "**Answer:**"
   ]
  },
  {
   "cell_type": "code",
   "execution_count": null,
   "metadata": {
    "collapsed": true
   },
   "outputs": [],
   "source": [
    "### Train your model here.\n",
    "### Feel free to use as many code cells as needed."
   ]
  },
  {
   "cell_type": "markdown",
   "metadata": {},
   "source": [
    "### Question 4\n",
    "\n",
    "_How did you train your model? (Type of optimizer, batch size, epochs, hyperparameters, etc.)_\n"
   ]
  },
  {
   "cell_type": "markdown",
   "metadata": {},
   "source": [
    "**Answer:**"
   ]
  },
  {
   "cell_type": "markdown",
   "metadata": {},
   "source": [
    "### Question 5\n",
    "\n",
    "\n",
    "_What approach did you take in coming up with a solution to this problem?_"
   ]
  },
  {
   "cell_type": "markdown",
   "metadata": {},
   "source": [
    "**Answer:**"
   ]
  },
  {
   "cell_type": "markdown",
   "metadata": {},
   "source": [
    "---\n",
    "\n",
    "## Step 3: Test a Model on New Images\n",
    "\n",
    "Take several pictures of traffic signs that you find on the web or around you (at least five), and run them through your classifier on your computer to produce example results. The classifier might not recognize some local signs but it could prove interesting nonetheless.\n",
    "\n",
    "You may find `signnames.csv` useful as it contains mappings from the class id (integer) to the actual sign name."
   ]
  },
  {
   "cell_type": "markdown",
   "metadata": {},
   "source": [
    "### Implementation\n",
    "\n",
    "Use the code cell (or multiple code cells, if necessary) to implement the first step of your project. Once you have completed your implementation and are satisfied with the results, be sure to thoroughly answer the questions that follow."
   ]
  },
  {
   "cell_type": "code",
   "execution_count": null,
   "metadata": {
    "collapsed": true
   },
   "outputs": [],
   "source": [
    "### Load the images and plot them here.\n",
    "### Feel free to use as many code cells as needed."
   ]
  },
  {
   "cell_type": "markdown",
   "metadata": {},
   "source": [
    "### Question 6\n",
    "\n",
    "_Choose five candidate images of traffic signs and provide them in the report. Are there any particular qualities of the image(s) that might make classification difficult? It would be helpful to plot the images in the notebook._\n",
    "\n"
   ]
  },
  {
   "cell_type": "markdown",
   "metadata": {},
   "source": [
    "**Answer:**"
   ]
  },
  {
   "cell_type": "code",
   "execution_count": null,
   "metadata": {
    "collapsed": true
   },
   "outputs": [],
   "source": [
    "### Run the predictions here.\n",
    "### Feel free to use as many code cells as needed."
   ]
  },
  {
   "cell_type": "markdown",
   "metadata": {},
   "source": [
    "### Question 7\n",
    "\n",
    "_Is your model able to perform equally well on captured pictures or a live camera stream when compared to testing on the dataset?_\n"
   ]
  },
  {
   "cell_type": "markdown",
   "metadata": {},
   "source": [
    "**Answer:**"
   ]
  },
  {
   "cell_type": "code",
   "execution_count": null,
   "metadata": {
    "collapsed": true
   },
   "outputs": [],
   "source": [
    "### Visualize the softmax probabilities here.\n",
    "### Feel free to use as many code cells as needed."
   ]
  },
  {
   "cell_type": "markdown",
   "metadata": {},
   "source": [
    "### Question 8\n",
    "\n",
    "*Use the model's softmax probabilities to visualize the **certainty** of its predictions, [`tf.nn.top_k`](https://www.tensorflow.org/versions/r0.11/api_docs/python/nn.html#top_k) could prove helpful here. Which predictions is the model certain of? Uncertain? If the model was incorrect in its initial prediction, does the correct prediction appear in the top k? (k should be 5 at most)*\n"
   ]
  },
  {
   "cell_type": "markdown",
   "metadata": {},
   "source": [
    "**Answer:**"
   ]
  },
  {
   "cell_type": "markdown",
   "metadata": {},
   "source": [
    "### Question 9\n",
    "_If necessary, provide documentation for how an interface was built for your model to load and classify newly-acquired images._\n"
   ]
  },
  {
   "cell_type": "markdown",
   "metadata": {},
   "source": [
    "**Answer:**"
   ]
  },
  {
   "cell_type": "markdown",
   "metadata": {},
   "source": [
    "> **Note**: Once you have completed all of the code implementations and successfully answered each question above, you may finalize your work by exporting the iPython Notebook as an HTML document. You can do this by using the menu above and navigating to  \\n\",\n",
    "    \"**File -> Download as -> HTML (.html)**. Include the finished document along with this notebook as your submission."
   ]
  },
  {
   "cell_type": "code",
   "execution_count": null,
   "metadata": {
    "collapsed": true
   },
   "outputs": [],
   "source": []
  }
 ],
 "metadata": {
  "anaconda-cloud": {},
  "kernelspec": {
   "display_name": "Python [conda env:py3]",
   "language": "python",
   "name": "conda-env-py3-py"
  },
  "language_info": {
   "codemirror_mode": {
    "name": "ipython",
    "version": 3
   },
   "file_extension": ".py",
   "mimetype": "text/x-python",
   "name": "python",
   "nbconvert_exporter": "python",
   "pygments_lexer": "ipython3",
   "version": "3.5.2"
  }
 },
 "nbformat": 4,
 "nbformat_minor": 1
}
